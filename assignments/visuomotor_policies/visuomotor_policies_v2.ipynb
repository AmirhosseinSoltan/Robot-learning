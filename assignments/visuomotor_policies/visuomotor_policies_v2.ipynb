{
 "cells": [
  {
   "cell_type": "markdown",
   "id": "ca875003",
   "metadata": {},
   "source": [
    "#### Team members:\n",
    "* ...\n",
    "* ...\n",
    "* ..."
   ]
  },
  {
   "cell_type": "code",
   "execution_count": 1,
   "id": "97a20441",
   "metadata": {
    "ExecuteTime": {
     "end_time": "2024-10-28T20:25:32.689763Z",
     "start_time": "2024-10-28T20:25:30.229067Z"
    },
    "deletable": false,
    "editable": false,
    "nbgrader": {
     "cell_type": "code",
     "checksum": "f64f76078878014611909be4e3da448c",
     "grade": false,
     "grade_id": "cell-af3beda0aef421f4",
     "locked": true,
     "schema_version": 3,
     "solution": false,
     "task": false
    }
   },
   "outputs": [],
   "source": [
    "### General imports\n",
    "import numpy as np\n",
    "import matplotlib.pyplot as plt\n",
    "import gymnasium as gym\n",
    "import torch\n",
    "import torch.nn as nn\n",
    "import torch.distributions as distributions\n",
    "import torch.optim as optim"
   ]
  },
  {
   "cell_type": "code",
   "execution_count": 5,
   "id": "4b82ba82",
   "metadata": {
    "ExecuteTime": {
     "end_time": "2024-10-28T19:53:40.717064Z",
     "start_time": "2024-10-28T19:53:37.619144Z"
    }
   },
   "outputs": [
    {
     "name": "stdout",
     "output_type": "stream",
     "text": [
      "Requirement already satisfied: gymnasium[classic-control] in /opt/conda/lib/python3.11/site-packages (0.29.1)\n",
      "Requirement already satisfied: numpy>=1.21.0 in /opt/conda/lib/python3.11/site-packages (from gymnasium[classic-control]) (1.26.4)\n",
      "Requirement already satisfied: cloudpickle>=1.2.0 in /opt/conda/lib/python3.11/site-packages (from gymnasium[classic-control]) (3.0.0)\n",
      "Requirement already satisfied: typing-extensions>=4.3.0 in /opt/conda/lib/python3.11/site-packages (from gymnasium[classic-control]) (4.9.0)\n",
      "Requirement already satisfied: farama-notifications>=0.0.1 in /opt/conda/lib/python3.11/site-packages (from gymnasium[classic-control]) (0.0.4)\n",
      "Collecting pygame>=2.1.3 (from gymnasium[classic-control])\n",
      "  Using cached pygame-2.6.1-cp311-cp311-manylinux_2_17_x86_64.manylinux2014_x86_64.whl.metadata (12 kB)\n",
      "Using cached pygame-2.6.1-cp311-cp311-manylinux_2_17_x86_64.manylinux2014_x86_64.whl (14.0 MB)\n",
      "Installing collected packages: pygame\n",
      "Successfully installed pygame-2.6.1\n",
      "\n",
      "\u001b[1m[\u001b[0m\u001b[34;49mnotice\u001b[0m\u001b[1;39;49m]\u001b[0m\u001b[39;49m A new release of pip is available: \u001b[0m\u001b[31;49m24.1\u001b[0m\u001b[39;49m -> \u001b[0m\u001b[32;49m24.2\u001b[0m\n",
      "\u001b[1m[\u001b[0m\u001b[34;49mnotice\u001b[0m\u001b[1;39;49m]\u001b[0m\u001b[39;49m To update, run: \u001b[0m\u001b[32;49mpip install --upgrade pip\u001b[0m\n"
     ]
    }
   ],
   "source": [
    "! pip install gymnasium[classic-control]"
   ]
  },
  {
   "cell_type": "markdown",
   "id": "f3bef47f",
   "metadata": {
    "deletable": false,
    "editable": false,
    "nbgrader": {
     "cell_type": "markdown",
     "checksum": "bcc5c9eb8b701c95d9eb750934fd65b2",
     "grade": false,
     "grade_id": "cell-f5699744cc964552",
     "locked": true,
     "schema_version": 3,
     "solution": false,
     "task": false
    }
   },
   "source": [
    "# Visuomotor Policies\n",
    "\n",
    "In this assignment, you will develop a simple visuomotor policy for solving the simple cart-pole problem. For this, you will use the [gymnasium](https://gymnasium.farama.org/) (which defines the cart-pole environment) as well as PyTorch for implementing and training neural network models."
   ]
  },
  {
   "cell_type": "markdown",
   "id": "025cbbe8",
   "metadata": {
    "deletable": false,
    "editable": false,
    "nbgrader": {
     "cell_type": "markdown",
     "checksum": "a9643554ccd0ecddfd3a45d51a2ac1b5",
     "grade": false,
     "grade_id": "cell-835bec8d44e0c6de",
     "locked": true,
     "schema_version": 3,
     "solution": false,
     "task": false
    }
   },
   "source": [
    "## Policy Network Implementation [30 points]\n",
    "\n",
    "In the cell below, implement the `LearningAgent` class that defines policy and/or value networks (depending on the reinforcement learning algorithm that you want to implement) and allows you to sample actions from the learned policy as well as perform network updates based on experiences.\n",
    "\n",
    "Your network should be defined so that the $s \\in S$ is an image of the cart-pole system and the action space is discrete - move left or move right.\n",
    "\n",
    "Note: If it helps, you are free to incorporate existing implementations of reinforcement learning algorithms, for instance as provided in [Stable Baselines3](https://stable-baselines3.readthedocs.io/en/master/), in your solution."
   ]
  },
  {
   "cell_type": "code",
   "execution_count": 32,
   "id": "4851eae0",
   "metadata": {
    "ExecuteTime": {
     "end_time": "2024-10-28T20:36:22.233390Z",
     "start_time": "2024-10-28T20:36:22.207027Z"
    },
    "deletable": false,
    "nbgrader": {
     "cell_type": "code",
     "checksum": "450bce8b8123e8851519bde55114c390",
     "grade": true,
     "grade_id": "cell-44637cbf9340d5ac",
     "locked": false,
     "points": 30,
     "schema_version": 3,
     "solution": true,
     "task": false
    }
   },
   "outputs": [],
   "source": [
    "from collections import namedtuple, deque\n",
    "from itertools import count\n",
    "import torch.nn.functional as F\n",
    "import random\n",
    "import matplotlib\n",
    "import math\n",
    "import cv2\n",
    "from torchvision import transforms\n",
    "import numpy as np\n",
    "from PIL import Image\n",
    "### Define an agent that implements a deep reinforcement learning algorithm of your choice to solve an MDP.\n",
    "### The class should:\n",
    "### * define your policy / value networks\n",
    "### * enable sample actions from the learned policy, and\n",
    "### * enable network updates based on experiences\n",
    "### You will need to update the function signatures so that you can pass appropriate parameters.\n",
    "BATCH_SIZE = 128\n",
    "GAMMA = 0.99\n",
    "EPS_START = 0.9\n",
    "EPS_END = 0.05\n",
    "EPS_DECAY = 1000\n",
    "TAU = 0.005\n",
    "LR = 1e-4\n",
    "\n",
    "############ HYPERPARAMETERS ##############\n",
    "# BATCH_SIZE = 128 # original = 128\n",
    "# GAMMA = 0.999 # original = 0.999\n",
    "# EPS_START = 0.9 # original = 0.9\n",
    "# EPS_END = 0.01 # original = 0.05\n",
    "# EPS_DECAY = 3000 # original = 200\n",
    "# TARGET_UPDATE = 50 # original = 10\n",
    "# MEMORY_SIZE = 100000 # original = 10000\n",
    "# END_SCORE = 200 # 200 for Cartpole-v0\n",
    "# TRAINING_STOP = 142 # threshold for training stop\n",
    "# N_EPISODES = 50000 # total episodes to be run\n",
    "# LAST_EPISODES_NUM = 20 # number of episodes for stopping training\n",
    "# FRAMES = 2 # state is the number of last frames: the more frames, \n",
    "# # the more the state is detailed (still Markovian)\n",
    "# RESIZE_PIXELS = 60 # Downsample image to this number of pixels\n",
    "\n",
    "# # ---- CONVOLUTIONAL NEURAL NETWORK ----\n",
    "# HIDDEN_LAYER_1 = 64\n",
    "# HIDDEN_LAYER_2 = 64 \n",
    "# HIDDEN_LAYER_3 = 32\n",
    "# KERNEL_SIZE = 5 # original = 5\n",
    "# STRIDE = 2 # original = 2\n",
    "# # --------------------------------------\n",
    "\n",
    "# GRAYSCALE = True # False is RGB\n",
    "# LOAD_MODEL = False # If we want to load the model, Default= False\n",
    "# USE_CUDA = True # If we want to use GPU (powerful one needed!)\n",
    "############################################\n",
    "\n",
    "Transition = namedtuple('Transition',\n",
    "                        ('state', 'action', 'next_state', 'reward'))\n",
    "\n",
    "is_ipython = 'inline' in matplotlib.get_backend()\n",
    "if is_ipython:\n",
    "    from IPython import display\n",
    "\n",
    "plt.ion()\n",
    "\n",
    "\n",
    "\n",
    "class ReplayMemory(object):\n",
    "\n",
    "    def __init__(self, capacity):\n",
    "        self.memory = deque([], maxlen=capacity)\n",
    "\n",
    "    def push(self, *args):\n",
    "        \"\"\"Save a transition\"\"\"\n",
    "        self.memory.append(Transition(*args))\n",
    "\n",
    "    def sample(self, batch_size):\n",
    "        return random.sample(self.memory, batch_size)\n",
    "\n",
    "    def __len__(self):\n",
    "        return len(self.memory)\n",
    "    \n",
    "class DQN(nn.Module):\n",
    "\n",
    "    def __init__(self, h, w, outputs):\n",
    "        super(DQN, self).__init__()\n",
    "        self.conv1 = nn.Conv2d(1, HIDDEN_LAYER_1, kernel_size=KERNEL_SIZE, stride=STRIDE) \n",
    "        self.bn1 = nn.BatchNorm2d(HIDDEN_LAYER_1)\n",
    "        self.conv2 = nn.Conv2d(HIDDEN_LAYER_1, HIDDEN_LAYER_2, kernel_size=KERNEL_SIZE, stride=STRIDE)\n",
    "        self.bn2 = nn.BatchNorm2d(HIDDEN_LAYER_2)\n",
    "        self.conv3 = nn.Conv2d(HIDDEN_LAYER_2, HIDDEN_LAYER_3, kernel_size=KERNEL_SIZE, stride=STRIDE)\n",
    "        self.bn3 = nn.BatchNorm2d(HIDDEN_LAYER_3)\n",
    "        # Number of Linear input connections depends on output of conv2d layers\n",
    "        # and therefore the input image size, so compute it.\n",
    "        def conv2d_size_out(size, kernel_size = KERNEL_SIZE, stride = STRIDE):\n",
    "            return (size - (kernel_size - 1) - 1) // stride  + 1\n",
    "        convw = conv2d_size_out(conv2d_size_out(conv2d_size_out(w)))\n",
    "        convh = conv2d_size_out(conv2d_size_out(conv2d_size_out(h)))\n",
    "        linear_input_size = convw * convh * 32\n",
    "        nn.Dropout()\n",
    "        self.head = nn.Linear(linear_input_size, outputs)\n",
    "\n",
    "    # Called with either one element to determine next action, or a batch\n",
    "    # during optimization. Returns tensor([[left0exp,right0exp]...]).\n",
    "    def forward(self, x):\n",
    "        x = F.relu(self.bn1(self.conv1(x)))\n",
    "        x = F.relu(self.bn2(self.conv2(x)))\n",
    "        x = F.relu(self.bn3(self.conv3(x)))\n",
    "        return self.head(x.view(x.size(0), -1))\n",
    "\n",
    "class LearningAgent(nn.Module):\n",
    "    def __init__(self, obs_space_shape, num_actions):\n",
    "        super(LearningAgent, self).__init__()\n",
    "        # YOUR CODE HERE\n",
    "        self.device = device = torch.device(\n",
    "            \"cuda\" if torch.cuda.is_available() else\n",
    "            \"mps\" if torch.backends.mps.is_available() else\n",
    "            \"cpu\"\n",
    "        )\n",
    "        self.obs_space_shape = obs_space_shape\n",
    "        self.num_actions = num_actions\n",
    "#         self.policy_net = DQN(self.obs_space_shape[0], self.obs_space_shape[0], self.num_actions).to(self.device)\n",
    "#         self.target_net = DQN(self.obs_space_shape[0], self.obs_space_shape[0], self.num_actions).to(self.device)\n",
    "        self.policy_net = self._create_network(self.obs_space_shape, self.num_actions).to(self.device)\n",
    "        self.target_net = self._create_network(self.obs_space_shape, self.num_actions).to(self.device)\n",
    "        self.target_net.load_state_dict(self.policy_net.state_dict())\n",
    "        \n",
    "        self.optimizer = optim.AdamW(self.policy_net.parameters(), lr=LR, amsgrad=True)\n",
    "        self.memory = ReplayMemory(10000)\n",
    "    \n",
    "    \n",
    "        \n",
    "    def _create_network(self, input_shape, output_shape):\n",
    "        net = nn.Sequential(\n",
    "            nn.Conv2d(in_channels=1, out_channels=32, kernel_size=3, stride=1),\n",
    "            nn.ReLU(),\n",
    "            nn.Conv2d(in_channels=32, out_channels=64, kernel_size=3, stride=1),\n",
    "            nn.ReLU(),\n",
    "            nn.Flatten(),\n",
    "            nn.Linear(64 * (input_shape[0] - 4) * (input_shape[1] - 4), 256),\n",
    "            nn.ReLU(),\n",
    "            nn.Linear(256, output_shape)  # Output Q-values for each action\n",
    "        )\n",
    "        return net\n",
    "\n",
    "#     def _create_network(self, input_shape, output_shape):\n",
    "#         net = nn.Sequential(\n",
    "#             nn.Linear(input_shape, 64),  # input_shape = 4 for vector input\n",
    "#             nn.ReLU(),\n",
    "#             nn.Linear(64, 128),\n",
    "#             nn.ReLU(),\n",
    "#             nn.Linear(128, 256),\n",
    "#             nn.ReLU(),\n",
    "#             nn.Linear(256, output_shape)  # Output layer for Q-values or class logits\n",
    "#         )\n",
    "#         return net\n",
    "\n",
    "    def sample_action(self,state):\n",
    "        \"\"\"Samples an action from the policy.\n",
    "        \"\"\"\n",
    "        # YOUR CODE HERE\n",
    "        with torch.no_grad():\n",
    "            # t.max(1) will return the largest column value of each row.\n",
    "            # second column on max result is index of where max element was\n",
    "            # found, so we pick action with the larger expected reward.\n",
    "            return self.policy_net(state).max(1).indices.view(1, 1)\n",
    "\n",
    "#         raise NotImplementedError()\n",
    "\n",
    "    def update(self):\n",
    "        \"\"\"Updates the network parameters.\n",
    "        \"\"\"\n",
    "        # YOUR CODE HERE\n",
    "        target_net_state_dict = self.target_net.state_dict()\n",
    "        policy_net_state_dict = self.policy_net.state_dict()\n",
    "        for key in policy_net_state_dict:\n",
    "            target_net_state_dict[key] = policy_net_state_dict[key]*TAU + target_net_state_dict[key]*(1-TAU)\n",
    "        self.target_net.load_state_dict(target_net_state_dict)\n",
    "        \n",
    "    def optimize_model(self):\n",
    "        if len(self.memory) < BATCH_SIZE:\n",
    "            return\n",
    "        transitions = self.memory.sample(BATCH_SIZE)\n",
    "        # Transpose the batch (see https://stackoverflow.com/a/19343/3343043 for\n",
    "        # detailed explanation). This converts batch-array of Transitions\n",
    "        # to Transition of batch-arrays.\n",
    "        batch = Transition(*zip(*transitions))\n",
    "\n",
    "        # Compute a mask of non-final states and concatenate the batch elements\n",
    "        # (a final state would've been the one after which simulation ended)\n",
    "        non_final_mask = torch.tensor(tuple(map(lambda s: s is not None,\n",
    "                                              batch.next_state)), device=self.device, dtype=torch.bool)\n",
    "        non_final_next_states = torch.cat([s for s in batch.next_state\n",
    "                                                    if s is not None])\n",
    "        state_batch = torch.cat(batch.state)\n",
    "        action_batch = torch.cat(batch.action)\n",
    "        reward_batch = torch.cat(batch.reward)\n",
    "\n",
    "        # Compute Q(s_t, a) - the model computes Q(s_t), then we select the\n",
    "        # columns of actions taken. These are the actions which would've been taken\n",
    "        # for each batch state according to policy_net\n",
    "        state_action_values = self.policy_net(state_batch).gather(1, action_batch)\n",
    "\n",
    "        # Compute V(s_{t+1}) for all next states.\n",
    "        # Expected values of actions for non_final_next_states are computed based\n",
    "        # on the \"older\" target_net; selecting their best reward with max(1).values\n",
    "        # This is merged based on the mask, such that we'll have either the expected\n",
    "        # state value or 0 in case the state was final.\n",
    "        next_state_values = torch.zeros(BATCH_SIZE, device=self.device)\n",
    "        with torch.no_grad():\n",
    "            next_state_values[non_final_mask] = self.target_net(non_final_next_states).max(1).values\n",
    "        # Compute the expected Q values\n",
    "        expected_state_action_values = (next_state_values * GAMMA) + reward_batch\n",
    "\n",
    "        # Compute Huber loss\n",
    "        criterion = nn.SmoothL1Loss()\n",
    "        loss = criterion(state_action_values, expected_state_action_values.unsqueeze(1))\n",
    "\n",
    "        # Optimize the model\n",
    "        self.optimizer.zero_grad()\n",
    "        loss.backward()\n",
    "        # In-place gradient clipping\n",
    "        torch.nn.utils.clip_grad_value_(self.policy_net.parameters(), 100)\n",
    "        self.optimizer.step()\n",
    "\n",
    "#         raise NotImplementedError()"
   ]
  },
  {
   "cell_type": "code",
   "execution_count": 33,
   "id": "742a8178",
   "metadata": {
    "ExecuteTime": {
     "end_time": "2024-10-28T20:36:24.696751Z",
     "start_time": "2024-10-28T20:36:24.501610Z"
    }
   },
   "outputs": [],
   "source": [
    "!export XDG_RUNTIME_DIR=/run/user/$(id -u)"
   ]
  },
  {
   "cell_type": "markdown",
   "id": "e64ac49d",
   "metadata": {
    "deletable": false,
    "editable": false,
    "nbgrader": {
     "cell_type": "markdown",
     "checksum": "b8502ac3995ff04da3ff79eabe9565a6",
     "grade": false,
     "grade_id": "cell-d83c2dca1c108cb7",
     "locked": true,
     "schema_version": 3,
     "solution": false,
     "task": false
    }
   },
   "source": [
    "## Agent Training [40 points]\n",
    "\n",
    "Now that your network is defined, implement the reinforcement learning loop for your agent in the cell below. This means that you need to collect experiences of the form $(s_t, a_t, s_{t+1}, r)$ so that you can update your policy network appropriately. How exactly you do the update will depend on the RL algorithm you use.\n",
    "\n",
    "Plot the evolution of the return over the learning process to show that your agent is actually learning. Note, however, that, as reinforcement learning algorithms have randomness associated with them, the results will differ every time you execute the algorithm; thus, you should plot an average of the return (over multiple runs) instead of the return of a single run --- like on the plots shown [here](https://how-do-you-learn.readthedocs.io/en/latest/rl/reinforce.html)."
   ]
  },
  {
   "cell_type": "code",
   "execution_count": null,
   "id": "cd4b2fa7",
   "metadata": {
    "ExecuteTime": {
     "start_time": "2024-10-28T20:36:36.472Z"
    },
    "deletable": false,
    "nbgrader": {
     "cell_type": "code",
     "checksum": "93f180d271e526008e50fca05719d185",
     "grade": true,
     "grade_id": "cell-77f7a14c6022a423",
     "locked": false,
     "points": 35,
     "schema_version": 3,
     "solution": true,
     "task": false
    }
   },
   "outputs": [
    {
     "data": {
      "image/png": "[encoded data removed]",
      "text/plain": [
       "<Figure size 640x480 with 1 Axes>"
      ]
     },
     "metadata": {},
     "output_type": "display_data"
    },
    {
     "data": {
      "text/plain": [
       "<Figure size 640x480 with 0 Axes>"
      ]
     },
     "metadata": {},
     "output_type": "display_data"
    }
   ],
   "source": [
    "\n",
    "# creating the cart pole environment in a way that allows us to render the observation as an image\n",
    "env = gym.make(\"CartPole-v1\", render_mode='rgb_array')\n",
    "\n",
    "### You can obtain an image of the current state of the system as follows:\n",
    "###     current_img_state = env.render()\n",
    "\n",
    "# YOUR CODE HERE\n",
    "def rgb_to_grayscale(rgb_array):\n",
    "    # Convert RGB to grayscale using the luminance formula\n",
    "    grayscale = 0.2989 * rgb_array[:, :, 0] + 0.5870 * rgb_array[:, :, 1] + 0.1140 * rgb_array[:, :, 2]\n",
    "    return grayscale\n",
    "def crop_center(image, crop_height, crop_width):\n",
    "    # Get the center coordinates of the image\n",
    "    center_y, center_x = image.shape[0] // 2, image.shape[1] // 2\n",
    "    # Calculate cropping coordinates\n",
    "    start_y = max(center_y - crop_height // 2, 0)\n",
    "    start_x = max(center_x - crop_width // 2, 0)\n",
    "    end_y = start_y + crop_height\n",
    "    end_x = start_x + crop_width\n",
    "    # Crop the image\n",
    "    return image[start_y:end_y, start_x:end_x]\n",
    "\n",
    "observation, info = env.reset()\n",
    "current_img_state = env.render()\n",
    "\n",
    "obs_shape = current_img_state.shape\n",
    "action_shape = env.action_space.n\n",
    "\n",
    "agent = LearningAgent((35,70), action_shape)\n",
    "\n",
    "if torch.cuda.is_available() or torch.backends.mps.is_available():\n",
    "    num_episodes = 600\n",
    "else:\n",
    "    num_episodes = 500\n",
    "episode_durations = []\n",
    "steps_done = 0\n",
    "for i_episode in range(num_episodes):\n",
    "    # Initialize the environment and get its state\n",
    "    _, info = env.reset()\n",
    "    img = env.render()\n",
    "    img = Image.fromarray(img, mode='RGB') \n",
    "    # img =  torch.tensor(state, dtype=torch.float32, device=agent.device).unsqueeze(0)\n",
    "    transform = transforms.Compose([transforms.Grayscale(num_output_channels=1), \n",
    "                                    transforms.Resize((70, 70)),\n",
    "                                    transforms.Lambda(lambda img: img.crop((0, 25, img.width, 60))),\n",
    "                                    transforms.ToTensor()])\n",
    "    state = transform(img).squeeze(0).numpy()\n",
    "#     state = rgb_to_grayscale(img)\n",
    "#     state = crop_center(state, 200, 200)\n",
    "#     state = cv2.resize(state, (50, 50), interpolation=cv2.INTER_AREA)\n",
    "    state = torch.tensor(state, dtype=torch.float32, device=agent.device).unsqueeze(0).unsqueeze(0)\n",
    "    for t in count():\n",
    "        sample = random.random()\n",
    "        eps_threshold = EPS_END + (EPS_START - EPS_END) * \\\n",
    "            math.exp(-1. * steps_done / EPS_DECAY)\n",
    "        steps_done += 1\n",
    "        if sample > eps_threshold:\n",
    "            with torch.no_grad():\n",
    "                # t.max(1) will return the largest column value of each row.\n",
    "                # second column on max result is index of where max element was\n",
    "                # found, so we pick action with the larger expected reward.\n",
    "                action = agent.sample_action(state)\n",
    "        else:\n",
    "            action = torch.tensor([[env.action_space.sample()]], device=agent.device, dtype=torch.long)\n",
    "        _, reward, terminated, truncated, _ = env.step(action.item())\n",
    "        observation = env.render()\n",
    "        reward = torch.tensor([reward], device=agent.device)\n",
    "        done = terminated or truncated\n",
    "        \n",
    "        if terminated:\n",
    "            next_state = None\n",
    "        else:\n",
    "#             observation = rgb_to_grayscale(observation)\n",
    "#             observation = crop_center(observation, 200, 200)\n",
    "#             observation = cv2.resize(observation, (50, 50), interpolation=cv2.INTER_AREA)\n",
    "            observation = Image.fromarray(observation, mode='RGB') \n",
    "            transform = transforms.Compose([transforms.Grayscale(num_output_channels=1), \n",
    "                                            transforms.Resize((70, 70)),\n",
    "                                            transforms.Lambda(lambda img: img.crop((0, 25, img.width, 60))),\n",
    "                                           transforms.ToTensor()])\n",
    "            observation = transform(observation).squeeze(0).numpy()\n",
    "            \n",
    "            next_state = torch.tensor(observation, dtype=torch.float32, device=agent.device).unsqueeze(0).unsqueeze(0)\n",
    "\n",
    "        # Store the transition in memory\n",
    "        agent.memory.push(state, action, next_state, reward)\n",
    "\n",
    "        # Move to the next state\n",
    "        state = next_state\n",
    "\n",
    "        # Perform one step of the optimization (on the policy network)\n",
    "        agent.optimize_model()\n",
    "\n",
    "        # Soft update of the target network's weights\n",
    "        # θ′ ← τ θ + (1 −τ )θ′\n",
    "        target_net_state_dict = agent.target_net.state_dict()\n",
    "        policy_net_state_dict = agent.policy_net.state_dict()\n",
    "        for key in policy_net_state_dict:\n",
    "            target_net_state_dict[key] = policy_net_state_dict[key]*TAU + target_net_state_dict[key]*(1-TAU)\n",
    "        agent.target_net.load_state_dict(target_net_state_dict)\n",
    "        if done:\n",
    "            episode_durations.append(t + 1)\n",
    "            plot_durations()\n",
    "            break\n",
    "\n",
    " \n",
    "# raise NotImplementedError()"
   ]
  },
  {
   "cell_type": "code",
   "execution_count": 35,
   "id": "5f5911fb",
   "metadata": {
    "ExecuteTime": {
     "end_time": "2024-10-28T20:36:31.983499Z",
     "start_time": "2024-10-28T20:36:31.973421Z"
    }
   },
   "outputs": [],
   "source": [
    "def plot_durations(show_result=False):\n",
    "    plt.figure(1)\n",
    "    durations_t = torch.tensor(episode_durations, dtype=torch.float)\n",
    "    if show_result:\n",
    "        plt.title('Result')\n",
    "    else:\n",
    "        plt.clf()\n",
    "        plt.title('Training...')\n",
    "    plt.xlabel('Episode')\n",
    "    plt.ylabel('Duration')\n",
    "    plt.plot(durations_t.numpy())\n",
    "    # Take 100 episode averages and plot them too\n",
    "    if len(durations_t) >= 100:\n",
    "        means = durations_t.unfold(0, 100, 1).mean(1).view(-1)\n",
    "        means = torch.cat((torch.zeros(99), means))\n",
    "        plt.plot(means.numpy())\n",
    "\n",
    "    plt.pause(0.001)  # pause a bit so that plots are updated\n",
    "    if is_ipython:\n",
    "        if not show_result:\n",
    "            display.display(plt.gcf())\n",
    "            display.clear_output(wait=True)\n",
    "        else:\n",
    "            display.display(plt.gcf())"
   ]
  },
  {
   "cell_type": "code",
   "execution_count": 31,
   "id": "2f507df0",
   "metadata": {
    "ExecuteTime": {
     "end_time": "2024-10-28T20:34:58.005347Z",
     "start_time": "2024-10-28T20:34:57.782850Z"
    }
   },
   "outputs": [
    {
     "name": "stdout",
     "output_type": "stream",
     "text": [
      "(35, 70)\n"
     ]
    },
    {
     "data": {
      "image/png": "[encoded data removed]",
      "text/plain": [
       "<Figure size 1000x600 with 1 Axes>"
      ]
     },
     "metadata": {},
     "output_type": "display_data"
    }
   ],
   "source": [
    "import numpy as np\n",
    "import matplotlib.pyplot as plt\n",
    "from torchvision import transforms\n",
    "import numpy as np\n",
    "from PIL import Image\n",
    "env = gym.make(\"CartPole-v1\", render_mode='rgb_array')\n",
    "_, info = env.reset()\n",
    "img = env.render()\n",
    "img = Image.fromarray(img, mode='RGB') \n",
    "# img =  torch.tensor(state, dtype=torch.float32, device=agent.device).unsqueeze(0)\n",
    "transform = transforms.Compose([transforms.Grayscale(num_output_channels=1), \n",
    "                                transforms.Resize((70, 70)),\n",
    "                                transforms.Lambda(lambda img: img.crop((0, 25, img.width, 60))), \n",
    "                                transforms.ToTensor()])\n",
    "state = transform(img).squeeze(0).numpy()\n",
    "\n",
    "print(state.shape)\n",
    "plt.figure(figsize=(10, 6))\n",
    "# Visualizing the image\n",
    "plt.imshow(state, cmap='gray' if state.ndim == 2 else None)\n",
    "plt.axis('on')  # Hide the axes\n",
    "plt.grid(color='black', linestyle='-', linewidth=0.5)  # Customize grid color and style\n",
    "\n",
    "plt.show()"
   ]
  },
  {
   "cell_type": "markdown",
   "id": "adfe8a19",
   "metadata": {
    "deletable": false,
    "nbgrader": {
     "cell_type": "markdown",
     "checksum": "b310bf40978769ed8a86852a0458925e",
     "grade": true,
     "grade_id": "cell-1363692a5c2587c3",
     "locked": false,
     "points": 5,
     "schema_version": 3,
     "solution": true,
     "task": false
    }
   },
   "source": [
    "Discuss the observations from your evaluation here.\n",
    "\n",
    "YOUR ANSWER HERE"
   ]
  },
  {
   "cell_type": "markdown",
   "id": "f9cadd2f",
   "metadata": {
    "deletable": false,
    "editable": false,
    "nbgrader": {
     "cell_type": "markdown",
     "checksum": "acf1aeab636ea5bae0cbb1b11848ba16",
     "grade": false,
     "grade_id": "cell-6be28454f1d2c5f1",
     "locked": true,
     "schema_version": 3,
     "solution": false,
     "task": false
    }
   },
   "source": [
    "## Combining Visual and Explicit State Information [30 points]\n",
    "\n",
    "Modify your implementation of the policy network so that it takes both the image and the explicit state information of the system as separate inputs (thus turning the policy into a multimodal policy). Then, update the learning loop accordingly and verify that learning is indeed taking place."
   ]
  },
  {
   "cell_type": "code",
   "execution_count": null,
   "id": "eded6a68",
   "metadata": {
    "deletable": false,
    "nbgrader": {
     "cell_type": "code",
     "checksum": "ec02c1fd7982dce782e2969b9941c842",
     "grade": true,
     "grade_id": "cell-019e9f9a3f567c09",
     "locked": false,
     "points": 15,
     "schema_version": 3,
     "solution": true,
     "task": false
    }
   },
   "outputs": [],
   "source": [
    "class UpdatedLearningAgent(nn.Module):\n",
    "    def __init__(self):\n",
    "        # YOUR CODE HERE\n",
    "        raise NotImplementedError()\n",
    "\n",
    "    def sample_action(self):\n",
    "        \"\"\"Samples an action from the policy.\n",
    "        \"\"\"\n",
    "        # YOUR CODE HERE\n",
    "        raise NotImplementedError()\n",
    "\n",
    "    def update(self):\n",
    "        \"\"\"Updates the network parameters.\n",
    "        \"\"\"\n",
    "        # YOUR CODE HERE\n",
    "        raise NotImplementedError()"
   ]
  },
  {
   "cell_type": "code",
   "execution_count": null,
   "id": "a35d044c",
   "metadata": {
    "deletable": false,
    "nbgrader": {
     "cell_type": "code",
     "checksum": "b649aeb3fa58ebbe944bf1ebf60ac919",
     "grade": true,
     "grade_id": "cell-a04c1b0a08a24684",
     "locked": false,
     "points": 10,
     "schema_version": 3,
     "solution": true,
     "task": false
    }
   },
   "outputs": [],
   "source": [
    "# creating the cart pole environment in a way that allows us to render the observation as an image\n",
    "env = gym.make(\"CartPole-v1\", render_mode='rgb_array')\n",
    "\n",
    "### You can obtain an image of the current state of the system as follows:\n",
    "###     current_img_state = env.render()\n",
    "\n",
    "# YOUR CODE HERE\n",
    "raise NotImplementedError()"
   ]
  },
  {
   "cell_type": "markdown",
   "id": "e8d3d10a",
   "metadata": {
    "deletable": false,
    "nbgrader": {
     "cell_type": "markdown",
     "checksum": "7e1d5fab13029132a89e6505cd2aaa1c",
     "grade": true,
     "grade_id": "cell-beb3f26bb8ee791f",
     "locked": false,
     "points": 5,
     "schema_version": 3,
     "solution": true,
     "task": false
    }
   },
   "source": [
    "Has the second modality changed the behaviour of the agent? Discuss the observations from your evaluation here.\n",
    "\n",
    "YOUR ANSWER HERE"
   ]
  }
 ],
 "metadata": {
  "kernelspec": {
   "display_name": "Python 3 (ipykernel)",
   "language": "python",
   "name": "python3"
  },
  "language_info": {
   "codemirror_mode": {
    "name": "ipython",
    "version": 3
   },
   "file_extension": ".py",
   "mimetype": "text/x-python",
   "name": "python",
   "nbconvert_exporter": "python",
   "pygments_lexer": "ipython3",
   "version": "3.11.4"
  }
 },
 "nbformat": 4,
 "nbformat_minor": 5
}
